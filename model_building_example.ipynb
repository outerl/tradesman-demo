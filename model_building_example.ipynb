{
 "cells": [
  {
   "attachments": {},
   "cell_type": "markdown",
   "metadata": {
    "id": "tiK8lMTxL3mu"
   },
   "source": [
    "# Tradesman\n",
    "\n",
    "Tradesman is a friendly model builder for transportation models. \n",
    "\n",
    "On this example, we show how to create a transportation model for Gibraltar, a small british territory in mainland Europe. In the end of the model-building process, we also have some simple data visualization."
   ]
  },
  {
   "attachments": {},
   "cell_type": "markdown",
   "metadata": {},
   "source": [
    "## Running on Google Colab\n",
    "\n",
    "A few steps need to be taken after pressing the button below\n",
    "\n",
    "<a href=\"https://colab.research.google.com/github/outerl/tradesman-demo/blob/main/model_building_example.ipynb\" target=\"_parent\"><img src=\"https://colab.research.google.com/assets/colab-badge.svg\" alt=\"Open in Colab\"/></a>\n",
    "\n",
    "1. Uncomment and run cell below\n",
    "2. re-start your runtime (Runtime-Restart Runtime or ctrl+m)\n",
    "3. Start again, but from the **Import package** section"
   ]
  },
  {
   "cell_type": "code",
   "execution_count": null,
   "metadata": {},
   "outputs": [],
   "source": [
    "# !apt-get update && apt-get install libsqlite3-mod-spatialite\n",
    "# !apt-get install -y libspatialite-dev\n",
    "# !pip install \"numpy>1.22,<1.24\" --upgrade\n",
    "# !pip install tradesman"
   ]
  },
  {
   "attachments": {},
   "cell_type": "markdown",
   "metadata": {
    "id": "6P9sErvVMz4G"
   },
   "source": [
    "## Import package"
   ]
  },
  {
   "cell_type": "code",
   "execution_count": 1,
   "metadata": {
    "id": "hG1iLyC0Mxax"
   },
   "outputs": [
    {
     "name": "stderr",
     "output_type": "stream",
     "text": [
      "c:\\src\\Tradesman-demo\\.venv\\lib\\site-packages\\libpysal\\cg\\alpha_shapes.py:39: NumbaDeprecationWarning: \u001b[1mThe 'nopython' keyword argument was not supplied to the 'numba.jit' decorator. The implicit default value for this argument is currently False, but it will be changed to True in Numba 0.59.0. See https://numba.readthedocs.io/en/stable/reference/deprecation.html#deprecation-of-object-mode-fall-back-behaviour-when-using-jit for details.\u001b[0m\n",
      "  def nb_dist(x, y):\n",
      "c:\\src\\Tradesman-demo\\.venv\\lib\\site-packages\\libpysal\\cg\\alpha_shapes.py:165: NumbaDeprecationWarning: \u001b[1mThe 'nopython' keyword argument was not supplied to the 'numba.jit' decorator. The implicit default value for this argument is currently False, but it will be changed to True in Numba 0.59.0. See https://numba.readthedocs.io/en/stable/reference/deprecation.html#deprecation-of-object-mode-fall-back-behaviour-when-using-jit for details.\u001b[0m\n",
      "  def get_faces(triangle):\n",
      "c:\\src\\Tradesman-demo\\.venv\\lib\\site-packages\\libpysal\\cg\\alpha_shapes.py:199: NumbaDeprecationWarning: \u001b[1mThe 'nopython' keyword argument was not supplied to the 'numba.jit' decorator. The implicit default value for this argument is currently False, but it will be changed to True in Numba 0.59.0. See https://numba.readthedocs.io/en/stable/reference/deprecation.html#deprecation-of-object-mode-fall-back-behaviour-when-using-jit for details.\u001b[0m\n",
      "  def build_faces(faces, triangles_is, num_triangles, num_faces_single):\n",
      "c:\\src\\Tradesman-demo\\.venv\\lib\\site-packages\\libpysal\\cg\\alpha_shapes.py:261: NumbaDeprecationWarning: \u001b[1mThe 'nopython' keyword argument was not supplied to the 'numba.jit' decorator. The implicit default value for this argument is currently False, but it will be changed to True in Numba 0.59.0. See https://numba.readthedocs.io/en/stable/reference/deprecation.html#deprecation-of-object-mode-fall-back-behaviour-when-using-jit for details.\u001b[0m\n",
      "  def nb_mask_faces(mask, faces):\n"
     ]
    }
   ],
   "source": [
    "import os\n",
    "os.environ['USE_PYGEOS'] = '0'\n",
    "\n",
    "from uuid import uuid4\n",
    "from tradesman.model import Tradesman"
   ]
  },
  {
   "attachments": {},
   "cell_type": "markdown",
   "metadata": {
    "id": "xKTA4fXsMIha"
   },
   "source": [
    "\n",
    "## Create model"
   ]
  },
  {
   "attachments": {},
   "cell_type": "markdown",
   "metadata": {
    "id": "AdFyTrWKakJO"
   },
   "source": [
    "We're going to save our model in the *temp* folder"
   ]
  },
  {
   "attachments": {},
   "cell_type": "markdown",
   "metadata": {},
   "source": [
    "If you have are running this notebook on Google Colab and want to save your model into your Google Drive, you should:\n",
    "\n",
    "1. Un-comment and run the cell below\n",
    "2. Accept the terms and conditions, and replace `\"gettempdir()\"` with `\"/content/gdrive\"`.\n"
   ]
  },
  {
   "cell_type": "code",
   "execution_count": null,
   "metadata": {},
   "outputs": [],
   "source": [
    "# from google.colab import drive\n",
    "# drive.mount(\"/content/gdrive\")"
   ]
  },
  {
   "cell_type": "code",
   "execution_count": null,
   "metadata": {
    "id": "f-YXbcz3mKfj"
   },
   "outputs": [],
   "source": [
    "from tempfile import gettempdir\n",
    "\n",
    "model_place = \"Gibraltar\"\n",
    "folder = os.path.join(gettempdir(), uuid4().hex)"
   ]
  },
  {
   "cell_type": "code",
   "execution_count": null,
   "metadata": {
    "colab": {
     "base_uri": "https://localhost:8080/"
    },
    "id": "FXXxAA5JLTrA",
    "outputId": "2dc241c8-f3a8-43cd-d9b9-d09bbe28850f"
   },
   "outputs": [],
   "source": [
    "model = Tradesman(network_path=folder, model_place=model_place)"
   ]
  },
  {
   "attachments": {},
   "cell_type": "markdown",
   "metadata": {},
   "source": [
    "We could just create the model with default parameters by calling  `model.create()`, but we want to make all components explicit"
   ]
  },
  {
   "cell_type": "code",
   "execution_count": null,
   "metadata": {
    "id": "zT2PCITSMgcW"
   },
   "outputs": [],
   "source": [
    "%%time\n",
    "# Import the model area\n",
    "model.import_model_area()\n",
    "\n",
    "# The borders for the country that includes this modeling area\n",
    "model.add_country_borders()\n",
    "\n",
    "# Imports the political subdivisions for this region\n",
    "model.import_subdivisions(subdivision_levels=2, overwrite=True)"
   ]
  },
  {
   "cell_type": "code",
   "execution_count": null,
   "metadata": {
    "id": "GYg1ibiGOtsn"
   },
   "outputs": [],
   "source": [
    "%%time\n",
    "# Import the model network\n",
    "model.import_network()"
   ]
  },
  {
   "cell_type": "code",
   "execution_count": null,
   "metadata": {
    "colab": {
     "base_uri": "https://localhost:8080/"
    },
    "id": "H5L04ywSTEKO",
    "outputId": "242264c7-cfad-413b-d3db-2bb50d150658"
   },
   "outputs": [],
   "source": [
    "%%time\n",
    "# Import population\n",
    "model.import_population()"
   ]
  },
  {
   "attachments": {},
   "cell_type": "markdown",
   "metadata": {
    "id": "7ZwKsQsnNuIB"
   },
   "source": [
    "As Monaco has a really small territorial area, we'll create Traffic Analysis Zones (TAZs) more suitable sizes to the country rather than the default ones."
   ]
  },
  {
   "cell_type": "code",
   "execution_count": null,
   "metadata": {
    "colab": {
     "base_uri": "https://localhost:8080/"
    },
    "id": "k_dICeNyTK2f",
    "outputId": "86ca29ba-5eab-49ce-8547-b6b7427a5704"
   },
   "outputs": [],
   "source": [
    "# Build TAZs with zones in the range of 100 to 500 people\n",
    "# The default range is 500 to 10,000\n",
    "# The `hexbin_size` parameter is the size of the hexbin side in meters.  Very small hexbins make the computation much slower, but may be necessary if you population targets are small.  The default parameter is 200\n",
    "model.build_zoning(hexbin_size=100, min_zone_pop=100, max_zone_pop=500)"
   ]
  },
  {
   "cell_type": "code",
   "execution_count": null,
   "metadata": {
    "colab": {
     "base_uri": "https://localhost:8080/"
    },
    "id": "N-4JqrMgTUj6",
    "outputId": "4a3c93f8-47d9-4ae8-b84a-13d921f45014"
   },
   "outputs": [],
   "source": [
    "%%time\n",
    "# Imports the population pyramid for our new zone system\n",
    "model.import_pop_by_sex_and_age()"
   ]
  },
  {
   "cell_type": "code",
   "execution_count": null,
   "metadata": {
    "id": "gUr0ABDKTfMI"
   },
   "outputs": [],
   "source": [
    "%%time\n",
    "# Import amenities from Open-Street Maps\n",
    "model.import_amenities()"
   ]
  },
  {
   "cell_type": "code",
   "execution_count": null,
   "metadata": {
    "id": "gEn8JLi9TkNX"
   },
   "outputs": [],
   "source": [
    "# Import buildings\n",
    "model.import_buildings(download_from_bing=False)"
   ]
  },
  {
   "attachments": {},
   "cell_type": "markdown",
   "metadata": {
    "id": "AhO0e1ENYXcO"
   },
   "source": [
    "## Create a synthetic population\n",
    "\n",
    "Let's create our synthetic population for Gibraltar! It's a two-step process: first, we sample a population dataset to create our seed sample that resembles Gibraltar (seed creation) and then, we run the synthesizer.\n",
    "The sample that ships with the software is a sample for Texas, and the software is separated in the creation of the PopulationSim configuration and the actual population generation to allow users to use a more appropriate sample if available"
   ]
  },
  {
   "cell_type": "code",
   "execution_count": null,
   "metadata": {
    "id": "yY6MoEEFTnLY"
   },
   "outputs": [],
   "source": [
    "# Create sample to build synthetic population\n",
    "model.build_population_synthesizer_data(sample_size=0.02)"
   ]
  },
  {
   "attachments": {},
   "cell_type": "markdown",
   "metadata": {
    "id": "BNry7asYVW-D"
   },
   "source": [
    "From the output, we can visualize if there are more or fewer households of certain categories. It's important to highlight that differences between expected and found values are expected because the data used to create the sample doesn't belong to Monaco."
   ]
  },
  {
   "cell_type": "code",
   "execution_count": null,
   "metadata": {
    "id": "Hmjuqf8OTtoZ"
   },
   "outputs": [],
   "source": [
    "# Create synthetic population\n",
    "model.synthesize_population()"
   ]
  },
  {
   "attachments": {},
   "cell_type": "markdown",
   "metadata": {
    "id": "OC-7i8nSWdWC"
   },
   "source": [
    "After the execution of the above cell, there are two main outputs. The ones related to non-controlled or controlled variables. The first one represents the differences between expected and found values for non-controlled variables based on United Nation Household survey data. The graphs represent the percentage difference between the synthetic over the expected population for controlled variables."
   ]
  },
  {
   "attachments": {},
   "cell_type": "markdown",
   "metadata": {
    "id": "aAHBT5fgooEQ"
   },
   "source": [
    "## And as promised, a bit of data visualization"
   ]
  },
  {
   "attachments": {},
   "cell_type": "markdown",
   "metadata": {
    "id": "d7ncoZGLovr4"
   },
   "source": [
    "### Import libraries"
   ]
  },
  {
   "cell_type": "code",
   "execution_count": null,
   "metadata": {
    "id": "PNEW55EGovVK"
   },
   "outputs": [],
   "source": [
    "import geopandas as gpd\n",
    "import folium"
   ]
  },
  {
   "attachments": {},
   "cell_type": "markdown",
   "metadata": {
    "id": "aerOUS6H9U9u"
   },
   "source": [
    "### Layer set up"
   ]
  },
  {
   "cell_type": "code",
   "execution_count": null,
   "metadata": {
    "id": "wCNQPy8x9WoK"
   },
   "outputs": [],
   "source": [
    "colors = [\"#219EBC\", \"#ffb703\", \"#8ECAE6\", \"#023047\", \"#fb8500\"]\n",
    "location = [36.142260, -5.346601] # This is the location of the Monte Carlo Casino, in case you're curious"
   ]
  },
  {
   "cell_type": "code",
   "execution_count": null,
   "metadata": {
    "id": "jV9h7xz0Bspw"
   },
   "outputs": [],
   "source": [
    "# Let's create a variable with our project database connection\n",
    "cnx = model._project.conn"
   ]
  },
  {
   "attachments": {},
   "cell_type": "markdown",
   "metadata": {
    "id": "uBX2ThcdriwV"
   },
   "source": [
    "### Plot the network"
   ]
  },
  {
   "cell_type": "code",
   "execution_count": null,
   "metadata": {
    "id": "HULw5tulrnjZ"
   },
   "outputs": [],
   "source": [
    "query = \"SELECT link_type, distance, modes, ST_AsBinary(geometry) geom FROM links;\"\n",
    "links = gpd.read_postgis(query, con=cnx, geom_col=\"geom\", crs=4326)\n",
    "\n",
    "# We'll plot only some link types\n",
    "links = links[links.link_type.isin([\"residential\", \"primary\", \"secondary\", \"tertiary\"])]"
   ]
  },
  {
   "cell_type": "code",
   "execution_count": null,
   "metadata": {
    "colab": {
     "base_uri": "https://localhost:8080/",
     "height": 1000
    },
    "id": "8oT4shWBB-ce",
    "outputId": "261aa16c-7213-410f-b8b0-2436335d4b05"
   },
   "outputs": [],
   "source": [
    "m = None\n",
    "\n",
    "for idx, tp in enumerate(links.link_type.unique()):\n",
    "  gdf = links[links.link_type == tp]\n",
    "  if m:\n",
    "    gdf.explore(m=m, name=tp, tiles=\"CartoDB positron\", tooltip=False, popup=True,\n",
    "                  zoom_start=14, location=location, legend=False, color=colors[idx])\n",
    "  else:\n",
    "    m = gdf.explore(name=tp, tiles=\"CartoDB positron\", tooltip=False, popup=True,\n",
    "                      zoom_start=14, location=location, legend=False, color=colors[idx])\n",
    "\n",
    "folium.LayerControl().add_to(m)\n",
    "\n",
    "m"
   ]
  },
  {
   "attachments": {},
   "cell_type": "markdown",
   "metadata": {
    "id": "evZWPne4r1ok"
   },
   "source": [
    "### Plot the populational density\n"
   ]
  },
  {
   "cell_type": "code",
   "execution_count": null,
   "metadata": {
    "id": "1aKKX6ivr19P"
   },
   "outputs": [],
   "source": [
    "query = \"SELECT *, ST_AsBinary(geometry) geom FROM zones;\"\n",
    "zones = gpd.read_postgis(query, con=cnx, geom_col=\"geom\", crs=4326)\n",
    "zones.drop(columns=[\"geometry\"], inplace=True)\n",
    "\n",
    "# Let's create our populational densisity variable\n",
    "zones[\"POP_DENSITY\"] = zones[\"population\"] / (zones[\"geom\"].to_crs(3857).area * 10e-6)\n"
   ]
  },
  {
   "cell_type": "code",
   "execution_count": null,
   "metadata": {
    "colab": {
     "base_uri": "https://localhost:8080/",
     "height": 1000
    },
    "id": "J8WpixfPCuyb",
    "outputId": "7f6e0e1a-3d36-4283-f1f2-83360eaf3148"
   },
   "outputs": [],
   "source": [
    "zones.explore(\"POP_DENSITY\", tiles=\"CartoDB positron\", cmap=\"Blues\", tooltip=False,\n",
    "              style_kwds={\"fillOpacity\": 1.0}, zoom_start=14, location=location, popup=True)\n"
   ]
  },
  {
   "cell_type": "code",
   "execution_count": null,
   "metadata": {
    "id": "M9HPbrhNttZp"
   },
   "outputs": [],
   "source": [
    "model.close()"
   ]
  }
 ],
 "metadata": {
  "colab": {
   "provenance": [],
   "toc_visible": true
  },
  "kernelspec": {
   "display_name": "Python 3 (ipykernel)",
   "language": "python",
   "name": "python3"
  },
  "language_info": {
   "codemirror_mode": {
    "name": "ipython",
    "version": 3
   },
   "file_extension": ".py",
   "mimetype": "text/x-python",
   "name": "python",
   "nbconvert_exporter": "python",
   "pygments_lexer": "ipython3",
   "version": "3.10.11"
  }
 },
 "nbformat": 4,
 "nbformat_minor": 4
}
