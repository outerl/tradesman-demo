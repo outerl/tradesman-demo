{
 "cells": [
  {
   "cell_type": "markdown",
   "id": "9bf00b30-aabd-43e3-a6fb-96209e5c9fa7",
   "metadata": {
    "tags": []
   },
   "source": [
    "### Bootsrap aequilibrae for dev on google colab"
   ]
  },
  {
   "cell_type": "code",
   "execution_count": null,
   "id": "1de2029f-5ea4-4cc7-a8fb-8a6e569058d0",
   "metadata": {},
   "outputs": [],
   "source": [
    "%cd /content\n",
    "!git clone https://github.com/AequilibraE/aequilibrae\n",
    "%cd aequilibrae\n",
    "!python setup.py build_ext --inplace\n",
    "%pip install -e .\n",
    "%cd /content\n",
    "!apt install libsqlite3-mod-spatialite"
   ]
  },
  {
   "cell_type": "markdown",
   "id": "e8014e1d-4845-4d12-985d-3a62429d5e02",
   "metadata": {
    "tags": []
   },
   "source": [
    "### Clone the repo"
   ]
  },
  {
   "cell_type": "code",
   "execution_count": null,
   "id": "8eb9cbea-1f1e-4f9e-9076-75eafea8330e",
   "metadata": {},
   "outputs": [],
   "source": [
    "!git clone https://github.com/outerl/AequilibraE-demo\n",
    "%cd AequilibraE-demo"
   ]
  },
  {
   "cell_type": "markdown",
   "id": "be74bf01-c788-45f6-b12d-285e2bff13cc",
   "metadata": {
    "tags": []
   },
   "source": [
    "### Download the model from github"
   ]
  },
  {
   "cell_type": "code",
   "execution_count": null,
   "id": "f334783d-cc4f-48a3-8435-47b0f0dfb82e",
   "metadata": {},
   "outputs": [],
   "source": [
    "!mkdir -p models\n",
    "!wget https://github.com/outerl/AequilibraE-demo/releases/download/Freeworld/Freetown.tar.gz -O ./models/Freetown.tar.gz\n",
    "!tar -xzf ./models/Freetown.tar.gz -C ./models"
   ]
  },
  {
   "cell_type": "markdown",
   "id": "6ff5ee51-3673-495e-ba0d-659fd3b655ab",
   "metadata": {},
   "source": [
    "### Install aequilibrae and dependencies for this demo"
   ]
  },
  {
   "cell_type": "code",
   "execution_count": null,
   "id": "c76a1a40-2354-433d-a5d4-c7816c1ca4d4",
   "metadata": {
    "tags": []
   },
   "outputs": [],
   "source": [
    "!cat requirements.txt\n",
    "%pip install -r requirements.txt"
   ]
  },
  {
   "cell_type": "markdown",
   "id": "0c5ad4b8-614d-4031-9cf4-fd1d0e4e2e32",
   "metadata": {
    "tags": []
   },
   "source": [
    "### Restart the kernel!\n",
    "\n",
    "If Aequilibrae was not installed prior to running this notebook you will need to restart the kernel!"
   ]
  },
  {
   "cell_type": "code",
   "execution_count": null,
   "id": "3048716b-4bdd-45d9-bca3-08b0c3549bcb",
   "metadata": {},
   "outputs": [],
   "source": [
    "%cd AequilibraE-demo"
   ]
  },
  {
   "cell_type": "markdown",
   "id": "dd449021-c3ee-4f38-972d-3dc14fa322fd",
   "metadata": {},
   "source": [
    "### Run a demo"
   ]
  },
  {
   "cell_type": "code",
   "execution_count": null,
   "id": "3174aa12-880c-4c13-8c4a-7a0a1cf6baa9",
   "metadata": {},
   "outputs": [],
   "source": [
    "%run plot_path_and_skimming.ipynb"
   ]
  }
 ],
 "metadata": {
  "kernelspec": {
   "display_name": "Python 3 (ipykernel)",
   "language": "python",
   "name": "python3"
  },
  "language_info": {
   "codemirror_mode": {
    "name": "ipython",
    "version": 3
   },
   "file_extension": ".py",
   "mimetype": "text/x-python",
   "name": "python",
   "nbconvert_exporter": "python",
   "pygments_lexer": "ipython3",
   "version": "3.11.2"
  }
 },
 "nbformat": 4,
 "nbformat_minor": 5
}
